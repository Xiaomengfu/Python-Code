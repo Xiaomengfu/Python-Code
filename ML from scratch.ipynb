{
 "cells": [
  {
   "cell_type": "markdown",
   "metadata": {},
   "source": [
    "Linear Regression"
   ]
  },
  {
   "cell_type": "code",
   "execution_count": null,
   "metadata": {},
   "outputs": [],
   "source": [
    "def linear_regression(x,y,iterations=100,learning_rate=0.01):\n",
    "    n,m=len(x[0]),len(x)\n",
    "    beta_0,beta_other=initialize_params(n)\n",
    "    for _ in range(iterations):\n",
    "        gradient_beta_0,gradient_beta_other=compute_gradient(x,y,beta_0,beta_other,n,m)\n",
    "        beta_0,beta_other=update_params(beta_0,beta_other,gradient_beta_0,gradient_beta_other,leaning_rate)\n",
    "    return beta_0,beta_other"
   ]
  },
  {
   "cell_type": "code",
   "execution_count": null,
   "metadata": {},
   "outputs": [],
   "source": [
    "def initialize_params(dimensions):\n",
    "    beta_0=0\n",
    "    beta_other=[random.random() for _ in range(dimensions)]\n",
    "    return beta_0,beta_other"
   ]
  },
  {
   "cell_type": "code",
   "execution_count": null,
   "metadata": {},
   "outputs": [],
   "source": [
    "def compute_gradient(x,y,beta_0,beta_other,dimension,m):\n",
    "    gradient_beta_0=0\n",
    "    gradient_beta_other=[0]*dimension\n",
    "    \n",
    "    for i in range(m):\n",
    "        y_i_hat=sum(x[i][j]*beta_other[j] for j in range(dimension))+beta_0\n",
    "        derror_dy=2*(y[i]-y_i_hat)\n",
    "        for j in range(dimension):\n",
    "            gradient_beta_other[j]+=derror_dy*x[i][j]/m\n",
    "        gradient_beta_0+=derror_dy/m\n",
    "        \n",
    "    return gradient_beta_0,gradient_beta_other"
   ]
  },
  {
   "cell_type": "code",
   "execution_count": null,
   "metadata": {},
   "outputs": [],
   "source": [
    "def update_params(beta_0,beta_other,gradient_beta_0,gradient_beta_other,learning_rate):\n",
    "    beta_0+=gradient_beta_0*learning_rate\n",
    "    for i in range(len(beta_other)):\n",
    "        beta_other[i]+=(gradient_beta_other[i]*learning_rate)\n",
    "    return beta_0,beta_other"
   ]
  },
  {
   "cell_type": "markdown",
   "metadata": {},
   "source": [
    "Logistic Regression"
   ]
  },
  {
   "cell_type": "code",
   "execution_count": null,
   "metadata": {},
   "outputs": [],
   "source": [
    "def logistic_regression(x,y,iterations=100,learning_rate=0.01):\n",
    "    n,m=len(x[0]),len(x)\n",
    "    beta_0,beta_other=initialize_params(n)\n",
    "    for _ in range(iterations):\n",
    "        gradient_beta_0,gradient_beta_other=compute_gradient(x,y,beta_0,beta_other,n,m)\n",
    "        beta_0,beta_other=update_params(beta_0,beta_other,gradient_beta_0,gradient_beta_other,leaning_rate)\n",
    "    return beta_0,beta_other\n",
    "\n",
    "def initialize_params(dimensions):\n",
    "    beta_0=0\n",
    "    beta_other=[random.random() for _ in range(dimensions)]\n",
    "    return beta_0,beta_other"
   ]
  },
  {
   "cell_type": "code",
   "execution_count": null,
   "metadata": {},
   "outputs": [],
   "source": [
    "def compute_gradients(x,y,beta_0,beta_other,n,m):\n",
    "    gradient_beta_0=0\n",
    "    gradient_beta_other=[0]*n\n",
    "    \n",
    "    for i,point in enumerate(x):\n",
    "        pred=logistic_function(point,beta_0,beta_other)\n",
    "        for j,feature in enumerate(point):\n",
    "            gradient_beta_other[j]+=(pred-y[i])*feature/m\n",
    "        gradient_beta_0+=(pred-y[i])/m\n",
    "    return gradient_beta_0,gradient_beta_other\n",
    "\n",
    "def logistic_function(point,beta_0,beta_other):\n",
    "    return 1/(1+np.exp(-(beta_0+point.dot(beta_other))))"
   ]
  },
  {
   "cell_type": "code",
   "execution_count": null,
   "metadata": {},
   "outputs": [],
   "source": [
    "def update_params(beta_0,beta_other,gradient_beta_0,gradient_beta_other,learning_rate):\n",
    "    beta_0-=gradient_beta_0*learning_rate\n",
    "    for i in range(len(beta_other)):\n",
    "        beta_other[i]-=(gradient_beta_other[i]*learning_rate)\n",
    "    return beta_0,beta_other"
   ]
  },
  {
   "cell_type": "markdown",
   "metadata": {},
   "source": [
    "K- means"
   ]
  },
  {
   "cell_type": "code",
   "execution_count": null,
   "metadata": {},
   "outputs": [],
   "source": [
    "def main(data,k):\n",
    "    centroids=initialize_centroids(data,k)\n",
    "    \n",
    "    while True:\n",
    "        old_centroids=centroids\n",
    "        labels=get_labels(data,centroids)\n",
    "        centroids=update_centroids(data,labels,k)\n",
    "        \n",
    "        if should_stop(old_centroids,centroids):\n",
    "            break\n",
    "    return labels "
   ]
  },
  {
   "cell_type": "code",
   "execution_count": null,
   "metadata": {},
   "outputs": [],
   "source": [
    "def initialize_centroids(data,k):\n",
    "    x_min=y_min=float('inf')\n",
    "    x_max=y_max=float('-inf')\n",
    "    for point in data:\n",
    "        x_min=min(point[0],x_min)\n",
    "        x_max=max(point[0],x_max)\n",
    "        y_min=min(point[1],y_min)\n",
    "        y_max=max(point[1],y_max)\n",
    "        \n",
    "    centroids=[]\n",
    "    for i in range(k):\n",
    "        centroids.append([ramdom_sample(x_min,x_max),random_sample(y_min,y_max)])\n",
    "    return centroids\n",
    "\n",
    "def random_sample(low,high):\n",
    "    return low+(high-low)*random.random()"
   ]
  },
  {
   "cell_type": "code",
   "execution_count": null,
   "metadata": {},
   "outputs": [],
   "source": [
    "def get_labels(data,centroids):\n",
    "    labels=[]\n",
    "    for point in data:\n",
    "        min_dist=float('inf')\n",
    "        label=None\n",
    "        for i, centroid in enumerate(centroids):\n",
    "            new_dist=get_distance(point,centroid)\n",
    "            if min_dist>new_dist:\n",
    "                min_dist=new_dist\n",
    "                label=i\n",
    "        labels.append(label)\n",
    "    return labels\n",
    "\n",
    "def get_distance(point_1,point_2):\n",
    "    return ((point_1[0]-point_2[0])**2+(point_1[1]-point_2[1])**2)**0.5"
   ]
  },
  {
   "cell_type": "code",
   "execution_count": null,
   "metadata": {},
   "outputs": [],
   "source": [
    "def update_centroids(points,labels,k):\n",
    "    new_centroids=[[0,0] for i in range(k)]\n",
    "    counts=[0]*k\n",
    "    \n",
    "    for point,label in zip(points,labels):\n",
    "        new_centroids[label][0]+=point[0]\n",
    "        new_centroids[label][1]+=point[1]\n",
    "        counts[label]+=1\n",
    "        \n",
    "    for i,(x,y) in enumerate(new_centroids):\n",
    "        new_centroids[i]=(x/counts[i],y/counts[i])\n",
    "    return new_centroids"
   ]
  },
  {
   "cell_type": "code",
   "execution_count": null,
   "metadata": {},
   "outputs": [],
   "source": [
    "def should_stop(old_centroids,new_centroids,threshold=1e-5):\n",
    "    total_movement=0\n",
    "    for old_point,new_point in zip(old_centroids,new_centroids):\n",
    "        total_movement+=get_distance(old_point,new_point)\n",
    "    return total_movement<threshold"
   ]
  }
 ],
 "metadata": {
  "kernelspec": {
   "display_name": "Python 3",
   "language": "python",
   "name": "python3"
  },
  "language_info": {
   "codemirror_mode": {
    "name": "ipython",
    "version": 3
   },
   "file_extension": ".py",
   "mimetype": "text/x-python",
   "name": "python",
   "nbconvert_exporter": "python",
   "pygments_lexer": "ipython3",
   "version": "3.8.5"
  }
 },
 "nbformat": 4,
 "nbformat_minor": 4
}
